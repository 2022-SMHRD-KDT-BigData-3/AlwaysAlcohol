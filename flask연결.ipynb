{
 "cells": [
  {
   "cell_type": "code",
   "execution_count": 45,
   "id": "9feb85f2",
   "metadata": {},
   "outputs": [],
   "source": [
    "def preprocessing(data_dict):\n",
    "  \n",
    "    # DataFrame 만들기 (why? dic 형태로 넘어 오기 때문에 변형이 필요하다 )\n",
    "    df = pd.DataFrame(index =range(0,1), columns = ['sweet_id' ,'body_id' ,'price' ,'falvor'] )\n",
    "    \n",
    "    # data_dic 형태에서 가져온 값을 DataFrame에 저장 하기 \n",
    "    df['sweet_id'] = data_dict['sweet_id']\n",
    "    df['body_id'] = data_dict['body_id']\n",
    "    df['price'] = data_dict['price']\n",
    " \n",
    "    # body , dry 의 넘버를 flavor 넘버로 변경\n",
    "    if(df['sweet_id']== 1 and df['body_id']== 1):\n",
    "            df['flavor'] = 1\n",
    "    elif(df['sweet_id']== 1 and df['body_id'] == 2):\n",
    "            df['flavor'] = 2\n",
    "    elif(df['sweet_id']== 1 and df['body_id'] == 3):\n",
    "            df['flavor'] = 3\n",
    "    elif(df['sweet_id']== 1 and df['body_id'] == 4):\n",
    "              df['flavor'] = 4\n",
    "    elif(df['sweet_id']== 1 and df['body_id'] == 5):\n",
    "             df['flavor'] = 5\n",
    "    elif(df['sweet_id']== 2 and df['body_id'] == 1):\n",
    "              df['flavor'] = 6\n",
    "    elif(df['sweet_id']== 2 and df['body_id'] == 2):\n",
    "             df['flavor'] = 7\n",
    "    elif(df['sweet_id']== 2 and df['body_id'] == 3):\n",
    "             df['flavor'] = 8\n",
    "    elif(df['sweet_id']== 2 and df['body_id'] == 4):\n",
    "             df['flavor'] = 9\n",
    "    elif(df['sweet_id']== 2 and df['body_id'] == 5):\n",
    "             df['flavor'] = 10\n",
    "    elif(df['sweet_id']== 3 and df['body_id'] == 1):\n",
    "             df['flavor'] = 11\n",
    "    elif(df['sweet_id']== 3 and df['body_id'] == 2):\n",
    "              df['flavor'] = 12\n",
    "    elif(df['sweet_id']== 3 and df['body_id'] == 3):\n",
    "            df['flavor'] = 13\n",
    "    elif(df['sweet_id']== 3 and df['body_id'] == 4):\n",
    "            df['flavor'] = 14\n",
    "    elif(df['sweet_id']== 3 and df['body_id'] == 5):\n",
    "            df['flavor'] = 15\n",
    "    elif(df['sweet_id']== 4 and df['body_id'] == 1):\n",
    "            df['flavor'] = 16\n",
    "    elif(df['sweet_id']== 4 and df['body_id'] == 2):\n",
    "            df['flavor'] = 17\n",
    "    elif(df['sweet_id']== 4 and df['body_id'] == 3):\n",
    "            df['flavor'] = 18\n",
    "    elif(df['sweet_id']== 4 and df['body_id'] == 4):\n",
    "            df['flavor'] = 19\n",
    "    elif(df['sweet_id']== 4 and df['body_id'] == 5):\n",
    "            df['flavor'] = 20\n",
    "    elif(df['sweet_id']== 5 and df['body_id'] == 1):\n",
    "            df['flavor'] = 21\n",
    "    elif(df['sweet_id']== 5 and df['body_id'] == 2):\n",
    "            df['flavor'] = 22\n",
    "    elif(df['sweet_id']== 5 and df['body_id'] == 3):\n",
    "            df['flavor'] = 23\n",
    "    elif(df['sweet_id']== 5 and df['body_id'] == 4):\n",
    "            df['flavor'] = 24\n",
    "    elif(df['sweet_id']== 5 and df['body_id'] == 5):\n",
    "            df['flavor'] = 25\n",
    "    return df"
   ]
  },
  {
   "cell_type": "code",
   "execution_count": null,
   "id": "103e1f4e",
   "metadata": {},
   "outputs": [
    {
     "name": "stdout",
     "output_type": "stream",
     "text": [
      " * Serving Flask app \"__main__\" (lazy loading)\n",
      " * Environment: production\n",
      "\u001b[31m   WARNING: This is a development server. Do not use it in a production deployment.\u001b[0m\n",
      "\u001b[2m   Use a production WSGI server instead.\u001b[0m\n",
      " * Debug mode: off\n"
     ]
    },
    {
     "name": "stderr",
     "output_type": "stream",
     "text": [
      " * Running on http://localhost:9000/ (Press CTRL+C to quit)\n",
      "[2022-04-08 01:14:51,892] ERROR in app: Exception on /wine [GET]\n",
      "Traceback (most recent call last):\n",
      "  File \"C:\\Users\\smhrd\\anaconda3\\lib\\site-packages\\flask\\app.py\", line 2447, in wsgi_app\n",
      "    response = self.full_dispatch_request()\n",
      "  File \"C:\\Users\\smhrd\\anaconda3\\lib\\site-packages\\flask\\app.py\", line 1952, in full_dispatch_request\n",
      "    rv = self.handle_user_exception(e)\n",
      "  File \"C:\\Users\\smhrd\\anaconda3\\lib\\site-packages\\flask\\app.py\", line 1821, in handle_user_exception\n",
      "    reraise(exc_type, exc_value, tb)\n",
      "  File \"C:\\Users\\smhrd\\anaconda3\\lib\\site-packages\\flask\\_compat.py\", line 39, in reraise\n",
      "    raise value\n",
      "  File \"C:\\Users\\smhrd\\anaconda3\\lib\\site-packages\\flask\\app.py\", line 1950, in full_dispatch_request\n",
      "    rv = self.dispatch_request()\n",
      "  File \"C:\\Users\\smhrd\\anaconda3\\lib\\site-packages\\flask\\app.py\", line 1936, in dispatch_request\n",
      "    return self.view_functions[rule.endpoint](**req.view_args)\n",
      "  File \"C:\\Users\\smhrd\\AppData\\Local\\Temp/ipykernel_876/2453184014.py\", line 25, in hellow\n",
      "    df = preprocessing(request.args.get)\n",
      "  File \"C:\\Users\\smhrd\\AppData\\Local\\Temp/ipykernel_876/3749895709.py\", line 7, in preprocessing\n",
      "    df['sweet_id'] = data_dict['sweet_id']\n",
      "TypeError: 'method' object is not subscriptable\n",
      "127.0.0.1 - - [08/Apr/2022 01:14:51] \"GET /wine?sweet_id=3&body_id=4&price=8000 HTTP/1.1\" 500 -\n"
     ]
    },
    {
     "name": "stdout",
     "output_type": "stream",
     "text": [
      "접속완료\n"
     ]
    }
   ],
   "source": [
    "import matplotlib.pyplot as plt\n",
    "import pandas as pd\n",
    "import numpy as np\n",
    "from sklearn.neighbors import KNeighborsClassifier\n",
    "from flask import Flask # 플라스크 클래스 임포트\n",
    "from flask import request, redirect\n",
    "    \n",
    "    # 추천 알고리즘 \n",
    "knn_model=KNeighborsClassifier()\n",
    "knn_model1=KNeighborsClassifier(n_neighbors=1)\n",
    "wine1 = pd.read_csv(\"wineFinal.csv\")\n",
    "x=wine1.loc[:,'price':'flavor']\n",
    "y=wine1.loc[:,'wine_id']\n",
    "knn_model1.fit(x, y)\n",
    "\n",
    "app = Flask(__name__) # 플라스크 서버 구동(Start)\n",
    "\n",
    "@app.route(\"/wine\") #localhost:9000/wine\n",
    "\n",
    "\n",
    "def hellow():\n",
    "    print(\"접속완료\")\n",
    "    # 모델사용 -> 결과값 도출\n",
    "    # 결과값을 다른 페이지로 이동! \n",
    "    df = preprocessing(request.args.get)\n",
    "    # 선택된 값을 저장\n",
    "    a = df['price'].values[0]\n",
    "    b = df['flavor'].values[0]\n",
    "    print(a)\n",
    "    print(b)\n",
    "    pre = knn_model1.predict([[a,b]]) \n",
    "    print(pre[0])\n",
    "    # eclipse 로 넘겨주기    \n",
    "    \n",
    "    return redirect(\"http://localhost:8081/FlaskTest/flask2.jsp?result=\"+pre[0])   \n",
    "\n",
    "if __name__ == \"__main__\":\n",
    "    app.run(host='localhost', port='9000') # 웹페이지 실행\n"
   ]
  },
  {
   "cell_type": "code",
   "execution_count": 15,
   "id": "1fb332f8",
   "metadata": {},
   "outputs": [],
   "source": [
    "import joblib"
   ]
  },
  {
   "cell_type": "code",
   "execution_count": 17,
   "id": "9557998a",
   "metadata": {},
   "outputs": [
    {
     "ename": "FileNotFoundError",
     "evalue": "[Errno 2] No such file or directory: './wine.pkl'",
     "output_type": "error",
     "traceback": [
      "\u001b[1;31m---------------------------------------------------------------------------\u001b[0m",
      "\u001b[1;31mFileNotFoundError\u001b[0m                         Traceback (most recent call last)",
      "\u001b[1;32m~\\AppData\\Local\\Temp/ipykernel_876/3966654208.py\u001b[0m in \u001b[0;36m<module>\u001b[1;34m\u001b[0m\n\u001b[1;32m----> 1\u001b[1;33m \u001b[0mmodel\u001b[0m \u001b[1;33m=\u001b[0m \u001b[0mjoblib\u001b[0m\u001b[1;33m.\u001b[0m\u001b[0mload\u001b[0m\u001b[1;33m(\u001b[0m\u001b[1;34m'./wine.pkl'\u001b[0m\u001b[1;33m)\u001b[0m\u001b[1;33m\u001b[0m\u001b[1;33m\u001b[0m\u001b[0m\n\u001b[0m",
      "\u001b[1;32m~\\anaconda3\\lib\\site-packages\\joblib\\numpy_pickle.py\u001b[0m in \u001b[0;36mload\u001b[1;34m(filename, mmap_mode)\u001b[0m\n\u001b[0;32m    577\u001b[0m             \u001b[0mobj\u001b[0m \u001b[1;33m=\u001b[0m \u001b[0m_unpickle\u001b[0m\u001b[1;33m(\u001b[0m\u001b[0mfobj\u001b[0m\u001b[1;33m)\u001b[0m\u001b[1;33m\u001b[0m\u001b[1;33m\u001b[0m\u001b[0m\n\u001b[0;32m    578\u001b[0m     \u001b[1;32melse\u001b[0m\u001b[1;33m:\u001b[0m\u001b[1;33m\u001b[0m\u001b[1;33m\u001b[0m\u001b[0m\n\u001b[1;32m--> 579\u001b[1;33m         \u001b[1;32mwith\u001b[0m \u001b[0mopen\u001b[0m\u001b[1;33m(\u001b[0m\u001b[0mfilename\u001b[0m\u001b[1;33m,\u001b[0m \u001b[1;34m'rb'\u001b[0m\u001b[1;33m)\u001b[0m \u001b[1;32mas\u001b[0m \u001b[0mf\u001b[0m\u001b[1;33m:\u001b[0m\u001b[1;33m\u001b[0m\u001b[1;33m\u001b[0m\u001b[0m\n\u001b[0m\u001b[0;32m    580\u001b[0m             \u001b[1;32mwith\u001b[0m \u001b[0m_read_fileobject\u001b[0m\u001b[1;33m(\u001b[0m\u001b[0mf\u001b[0m\u001b[1;33m,\u001b[0m \u001b[0mfilename\u001b[0m\u001b[1;33m,\u001b[0m \u001b[0mmmap_mode\u001b[0m\u001b[1;33m)\u001b[0m \u001b[1;32mas\u001b[0m \u001b[0mfobj\u001b[0m\u001b[1;33m:\u001b[0m\u001b[1;33m\u001b[0m\u001b[1;33m\u001b[0m\u001b[0m\n\u001b[0;32m    581\u001b[0m                 \u001b[1;32mif\u001b[0m \u001b[0misinstance\u001b[0m\u001b[1;33m(\u001b[0m\u001b[0mfobj\u001b[0m\u001b[1;33m,\u001b[0m \u001b[0mstr\u001b[0m\u001b[1;33m)\u001b[0m\u001b[1;33m:\u001b[0m\u001b[1;33m\u001b[0m\u001b[1;33m\u001b[0m\u001b[0m\n",
      "\u001b[1;31mFileNotFoundError\u001b[0m: [Errno 2] No such file or directory: './wine.pkl'"
     ]
    }
   ],
   "source": [
    "model = joblib.load('./wine.pkl')"
   ]
  }
 ],
 "metadata": {
  "kernelspec": {
   "display_name": "Python 3 (ipykernel)",
   "language": "python",
   "name": "python3"
  },
  "language_info": {
   "codemirror_mode": {
    "name": "ipython",
    "version": 3
   },
   "file_extension": ".py",
   "mimetype": "text/x-python",
   "name": "python",
   "nbconvert_exporter": "python",
   "pygments_lexer": "ipython3",
   "version": "3.9.7"
  }
 },
 "nbformat": 4,
 "nbformat_minor": 5
}
